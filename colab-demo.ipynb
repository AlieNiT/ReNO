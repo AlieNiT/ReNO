{
  "cells": [
    {
      "cell_type": "markdown",
      "metadata": {
        "id": "qW9dX6EGbsI4"
      },
      "source": [
        "# Initialization"
      ]
    },
    {
      "cell_type": "markdown",
      "metadata": {
        "id": "SFtRyBKZb10y"
      },
      "source": [
        "## Clone Repo"
      ]
    },
    {
      "cell_type": "code",
      "execution_count": 1,
      "metadata": {
        "colab": {
          "base_uri": "https://localhost:8080/"
        },
        "id": "mZSt8e5eb0yE",
        "outputId": "3ea32782-b98f-4c45-a08f-ec405d7ae043"
      },
      "outputs": [
        {
          "output_type": "stream",
          "name": "stdout",
          "text": [
            "Cloning into 'ReNO'...\n",
            "remote: Enumerating objects: 223, done.\u001b[K\n",
            "remote: Counting objects: 100% (62/62), done.\u001b[K\n",
            "remote: Compressing objects: 100% (34/34), done.\u001b[K\n",
            "remote: Total 223 (delta 40), reused 30 (delta 28), pack-reused 161 (from 1)\u001b[K\n",
            "Receiving objects: 100% (223/223), 46.48 MiB | 41.75 MiB/s, done.\n",
            "Resolving deltas: 100% (53/53), done.\n"
          ]
        }
      ],
      "source": [
        "!git clone https://github.com/AlieNiT/ReNO.git"
      ]
    },
    {
      "cell_type": "code",
      "execution_count": 2,
      "metadata": {
        "colab": {
          "base_uri": "https://localhost:8080/"
        },
        "id": "86ZCyIODlBhx",
        "outputId": "924ddc48-df2d-4cb3-c0f7-f9631f5f4078"
      },
      "outputs": [
        {
          "output_type": "stream",
          "name": "stdout",
          "text": [
            "Cloning into 'T2I-CompBench'...\n",
            "remote: Enumerating objects: 939, done.\u001b[K\n",
            "remote: Counting objects: 100% (215/215), done.\u001b[K\n",
            "remote: Compressing objects: 100% (173/173), done.\u001b[K\n",
            "remote: Total 939 (delta 127), reused 43 (delta 42), pack-reused 724 (from 1)\u001b[K\n",
            "Receiving objects: 100% (939/939), 79.26 MiB | 31.04 MiB/s, done.\n",
            "Resolving deltas: 100% (327/327), done.\n"
          ]
        }
      ],
      "source": [
        "!git clone https://github.com/Karine-Huang/T2I-CompBench.git"
      ]
    },
    {
      "cell_type": "markdown",
      "source": [
        "## Install Dependencies"
      ],
      "metadata": {
        "id": "JhnG01TsGz04"
      }
    },
    {
      "cell_type": "code",
      "execution_count": 3,
      "metadata": {
        "colab": {
          "base_uri": "https://localhost:8080/"
        },
        "id": "rd5T6fPTLT6r",
        "outputId": "b387f496-457a-4ef5-85fd-d62463d2072e"
      },
      "outputs": [
        {
          "output_type": "stream",
          "name": "stdout",
          "text": [
            "\u001b[31mERROR: pip's dependency resolver does not currently take into account all the packages that are installed. This behaviour is the source of the following dependency conflicts.\n",
            "ydf 0.13.0 requires protobuf<7.0.0,>=5.29.1, but you have protobuf 3.20.3 which is incompatible.\n",
            "opentelemetry-proto 1.37.0 requires protobuf<7.0,>=5.0, but you have protobuf 3.20.3 which is incompatible.\n",
            "tensorflow-metadata 1.17.2 requires protobuf>=4.25.2; python_version >= \"3.11\", but you have protobuf 3.20.3 which is incompatible.\n",
            "grpcio-status 1.71.2 requires protobuf<6.0dev,>=5.26.1, but you have protobuf 3.20.3 which is incompatible.\n",
            "gcsfs 2025.3.0 requires fsspec==2025.3.0, but you have fsspec 2024.2.0 which is incompatible.\n",
            "sentence-transformers 5.1.2 requires transformers<5.0.0,>=4.41.0, but you have transformers 4.37.2 which is incompatible.\u001b[0m\u001b[31m\n",
            "\u001b[0m"
          ]
        }
      ],
      "source": [
        "!pip install torch torchvision pytorch-lightning \\\n",
        "    datasets==2.18 diffusers==0.30.0 hpsv2==1.2 image-reward==1.5 \\\n",
        "    open-clip-torch==2.24 blobfile openai-clip optimum xformers \\\n",
        "    transformers==4.37.2 peft==0.10.0 protobuf>=5.29 fsspec>=2025.3"
      ]
    },
    {
      "cell_type": "markdown",
      "metadata": {
        "id": "nJ7N7s51fSE8"
      },
      "source": [
        "## Run"
      ]
    },
    {
      "cell_type": "code",
      "execution_count": 1,
      "metadata": {
        "colab": {
          "base_uri": "https://localhost:8080/"
        },
        "id": "l3_R8-YTcv-t",
        "outputId": "73cb483d-a7b8-487e-b4b2-f0a16da2615f"
      },
      "outputs": [
        {
          "output_type": "stream",
          "name": "stdout",
          "text": [
            "/content/ReNO\n"
          ]
        }
      ],
      "source": [
        "cd /content/ReNO"
      ]
    },
    {
      "cell_type": "code",
      "execution_count": 2,
      "metadata": {
        "colab": {
          "base_uri": "https://localhost:8080/"
        },
        "id": "9ix2qEnXfWiK",
        "outputId": "54c593c1-f374-4ee4-9cfd-5967b6908b41"
      },
      "outputs": [
        {
          "output_type": "stream",
          "name": "stdout",
          "text": [
            "2025-10-30 12:27:11.695024: E external/local_xla/xla/stream_executor/cuda/cuda_fft.cc:467] Unable to register cuFFT factory: Attempting to register factory for plugin cuFFT when one has already been registered\n",
            "WARNING: All log messages before absl::InitializeLog() is called are written to STDERR\n",
            "E0000 00:00:1761827231.708538    1809 cuda_dnn.cc:8579] Unable to register cuDNN factory: Attempting to register factory for plugin cuDNN when one has already been registered\n",
            "E0000 00:00:1761827231.712565    1809 cuda_blas.cc:1407] Unable to register cuBLAS factory: Attempting to register factory for plugin cuBLAS when one has already been registered\n",
            "W0000 00:00:1761827231.722864    1809 computation_placer.cc:177] computation placer already registered. Please check linkage and avoid linking the same target more than once.\n",
            "W0000 00:00:1761827231.722904    1809 computation_placer.cc:177] computation placer already registered. Please check linkage and avoid linking the same target more than once.\n",
            "W0000 00:00:1761827231.722909    1809 computation_placer.cc:177] computation placer already registered. Please check linkage and avoid linking the same target more than once.\n",
            "W0000 00:00:1761827231.722924    1809 computation_placer.cc:177] computation placer already registered. Please check linkage and avoid linking the same target more than once.\n",
            "Seed set to 0\n",
            "2025-10-30 12:27:14,429 - Namespace(cache_dir='/shared-local/aoq951/HF_CACHE/', save_dir='./outputs', model='sd-turbo', lr=5.0, n_iters=50, n_inference_steps=1, optim='sgd', nesterov=True, grad_clip=0.1, seed=0, enable_hps=False, hps_weighting=5.0, enable_imagereward=False, imagereward_weighting=1.0, enable_clip=True, clip_weighting=0.01, enable_pickscore=False, pickscore_weighting=0.05, enable_blip=True, blip_weighting=0.01, enable_aesthetic=False, aesthetic_weighting=0.0, enable_reg=False, reg_weight=0.01, task='t2i-compbench', prompt='color_train', benchmark_reward='total', save_all_images=False, no_optim=False, imageselect=False, memsave=False, dtype='float16', device_id=None, cpu_offloading=False, enable_multi_apply=False, multi_step_model='flux')\n",
            "/usr/local/lib/python3.12/dist-packages/huggingface_hub/file_download.py:942: FutureWarning: `resume_download` is deprecated and will be removed in version 1.0.0. Downloads always resume when possible. If you want to force a new download, use `force_download=True`.\n",
            "  warnings.warn(\n",
            "preprocessor_config.json: 100% 316/316 [00:00<00:00, 1.96MB/s]\n",
            "tokenizer_config.json: 100% 904/904 [00:00<00:00, 5.17MB/s]\n",
            "config.json: 4.72kB [00:00, 15.5MB/s]\n",
            "vocab.json: 862kB [00:00, 18.0MB/s]\n",
            "merges.txt: 525kB [00:00, 77.6MB/s]\n",
            "tokenizer.json: 2.22MB [00:00, 102MB/s]\n",
            "special_tokens_map.json: 100% 389/389 [00:00<00:00, 2.48MB/s]\n",
            "model.safetensors: 100% 3.94G/3.94G [00:31<00:00, 126MB/s]\n",
            "Traceback (most recent call last):\n",
            "  File \"/content/ReNO/main.py\", line 294, in <module>\n",
            "    main(args)\n",
            "  File \"/content/ReNO/main.py\", line 53, in main\n",
            "    reward_losses = get_reward_losses(args, dtype, device, args.cache_dir)\n",
            "                    ^^^^^^^^^^^^^^^^^^^^^^^^^^^^^^^^^^^^^^^^^^^^^^^^^^^^^^\n",
            "  File \"/content/ReNO/rewards/utils.py\", line 38, in get_reward_losses\n",
            "    CLIPLoss(\n",
            "  File \"/content/ReNO/rewards/clip.py\", line 29, in __init__\n",
            "    self.clip_model = self.clip_model.to(device, dtype=dtype)\n",
            "                      ^^^^^^^^^^^^^^^^^^^^^^^^^^^^^^^^^^^^^^^\n",
            "  File \"/usr/local/lib/python3.12/dist-packages/transformers/modeling_utils.py\", line 2595, in to\n",
            "    return super().to(*args, **kwargs)\n",
            "           ^^^^^^^^^^^^^^^^^^^^^^^^^^^\n",
            "  File \"/usr/local/lib/python3.12/dist-packages/torch/nn/modules/module.py\", line 1369, in to\n",
            "    return self._apply(convert)\n",
            "           ^^^^^^^^^^^^^^^^^^^^\n",
            "  File \"/usr/local/lib/python3.12/dist-packages/torch/nn/modules/module.py\", line 928, in _apply\n",
            "    module._apply(fn)\n",
            "  File \"/usr/local/lib/python3.12/dist-packages/torch/nn/modules/module.py\", line 928, in _apply\n",
            "    module._apply(fn)\n",
            "  File \"/usr/local/lib/python3.12/dist-packages/torch/nn/modules/module.py\", line 928, in _apply\n",
            "    module._apply(fn)\n",
            "  File \"/usr/local/lib/python3.12/dist-packages/torch/nn/modules/module.py\", line 955, in _apply\n",
            "    param_applied = fn(param)\n",
            "                    ^^^^^^^^^\n",
            "  File \"/usr/local/lib/python3.12/dist-packages/torch/nn/modules/module.py\", line 1355, in convert\n",
            "    return t.to(\n",
            "           ^^^^^\n",
            "  File \"/usr/local/lib/python3.12/dist-packages/torch/cuda/__init__.py\", line 412, in _lazy_init\n",
            "    torch._C._cuda_init()\n",
            "RuntimeError: Found no NVIDIA driver on your system. Please check that you have an NVIDIA GPU and installed a driver from http://www.nvidia.com/Download/index.aspx\n"
          ]
        }
      ],
      "source": [
        "!python main.py --task \"t2i-compbench\" --model \"sd-turbo\" --save_dir \"./outputs\" --prompt \"color_train\" --disable_hps --disable_imagereward --disable_pickscore --disable_aesthetic --disable_reg"
      ]
    }
  ],
  "metadata": {
    "accelerator": "GPU",
    "colab": {
      "gpuType": "T4",
      "provenance": []
    },
    "kernelspec": {
      "display_name": "Python 3",
      "name": "python3"
    },
    "language_info": {
      "name": "python"
    }
  },
  "nbformat": 4,
  "nbformat_minor": 0
}