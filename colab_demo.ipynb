{
  "cells": [
    {
      "cell_type": "markdown",
      "metadata": {
        "id": "qW9dX6EGbsI4"
      },
      "source": [
        "# Initialization"
      ]
    },
    {
      "cell_type": "markdown",
      "metadata": {
        "id": "SFtRyBKZb10y"
      },
      "source": [
        "## Clone Repo"
      ]
    },
    {
      "cell_type": "code",
      "execution_count": 1,
      "metadata": {
        "colab": {
          "base_uri": "https://localhost:8080/"
        },
        "id": "mZSt8e5eb0yE",
        "outputId": "b03aac4f-9ad5-42d9-af4d-5e7fbd9e7a40"
      },
      "outputs": [
        {
          "output_type": "stream",
          "name": "stdout",
          "text": [
            "Cloning into 'ReNO'...\n",
            "remote: Enumerating objects: 245, done.\u001b[K\n",
            "remote: Counting objects: 100% (84/84), done.\u001b[K\n",
            "remote: Compressing objects: 100% (46/46), done.\u001b[K\n",
            "remote: Total 245 (delta 56), reused 48 (delta 38), pack-reused 161 (from 1)\u001b[K\n",
            "Receiving objects: 100% (245/245), 46.48 MiB | 42.27 MiB/s, done.\n",
            "Resolving deltas: 100% (69/69), done.\n"
          ]
        }
      ],
      "source": [
        "!git clone https://github.com/AlieNiT/ReNO.git"
      ]
    },
    {
      "cell_type": "code",
      "execution_count": 2,
      "metadata": {
        "colab": {
          "base_uri": "https://localhost:8080/"
        },
        "id": "86ZCyIODlBhx",
        "outputId": "52f9286f-188e-4205-abe7-550afa51b852"
      },
      "outputs": [
        {
          "output_type": "stream",
          "name": "stdout",
          "text": [
            "Cloning into 'T2I-CompBench'...\n",
            "remote: Enumerating objects: 939, done.\u001b[K\n",
            "remote: Counting objects: 100% (215/215), done.\u001b[K\n",
            "remote: Compressing objects: 100% (173/173), done.\u001b[K\n",
            "remote: Total 939 (delta 127), reused 43 (delta 42), pack-reused 724 (from 1)\u001b[K\n",
            "Receiving objects: 100% (939/939), 79.26 MiB | 25.43 MiB/s, done.\n",
            "Resolving deltas: 100% (327/327), done.\n"
          ]
        }
      ],
      "source": [
        "!git clone https://github.com/Karine-Huang/T2I-CompBench.git"
      ]
    },
    {
      "cell_type": "markdown",
      "source": [
        "## Install Dependencies"
      ],
      "metadata": {
        "id": "JhnG01TsGz04"
      }
    },
    {
      "cell_type": "code",
      "execution_count": 5,
      "metadata": {
        "colab": {
          "base_uri": "https://localhost:8080/"
        },
        "id": "rd5T6fPTLT6r",
        "outputId": "e6ea2746-82fa-44c9-fdc2-197a67d48bed"
      },
      "outputs": [
        {
          "output_type": "stream",
          "name": "stdout",
          "text": [
            "\u001b[31mERROR: pip's dependency resolver does not currently take into account all the packages that are installed. This behaviour is the source of the following dependency conflicts.\n",
            "tensorflow-metadata 1.17.2 requires protobuf>=4.25.2; python_version >= \"3.11\", but you have protobuf 3.20.3 which is incompatible.\n",
            "opentelemetry-proto 1.37.0 requires protobuf<7.0,>=5.0, but you have protobuf 3.20.3 which is incompatible.\n",
            "sentence-transformers 5.1.2 requires transformers<5.0.0,>=4.41.0, but you have transformers 4.37.2 which is incompatible.\n",
            "gcsfs 2025.3.0 requires fsspec==2025.3.0, but you have fsspec 2024.2.0 which is incompatible.\n",
            "ydf 0.13.0 requires protobuf<7.0.0,>=5.29.1, but you have protobuf 3.20.3 which is incompatible.\n",
            "grpcio-status 1.71.2 requires protobuf<6.0dev,>=5.26.1, but you have protobuf 3.20.3 which is incompatible.\u001b[0m\u001b[31m\n",
            "\u001b[0m"
          ]
        }
      ],
      "source": [
        "!pip install torch torchvision pytorch-lightning \\\n",
        "    datasets==2.18 diffusers==0.30.0 hpsv2==1.2 image-reward==1.5 \\\n",
        "    open-clip-torch==2.24 blobfile openai-clip optimum xformers \\\n",
        "    transformers==4.37.2 peft==0.10.0 protobuf>=5.29 fsspec>=2025.3"
      ]
    },
    {
      "cell_type": "markdown",
      "source": [
        "**NOTE: Restart the session and run the rest of the notebook**"
      ],
      "metadata": {
        "id": "JbXbcPQfCZSE"
      }
    },
    {
      "cell_type": "markdown",
      "metadata": {
        "id": "nJ7N7s51fSE8"
      },
      "source": [
        "## Run"
      ]
    },
    {
      "cell_type": "code",
      "execution_count": 4,
      "metadata": {
        "colab": {
          "base_uri": "https://localhost:8080/"
        },
        "id": "l3_R8-YTcv-t",
        "outputId": "d2ee20f4-e10b-4b67-d510-1d4089cc422d"
      },
      "outputs": [
        {
          "output_type": "stream",
          "name": "stdout",
          "text": [
            "/content/ReNO\n"
          ]
        }
      ],
      "source": [
        "cd /content/ReNO"
      ]
    },
    {
      "cell_type": "markdown",
      "source": [
        "## Baseline (without BLIP Score)"
      ],
      "metadata": {
        "id": "OwMurm6xBu_b"
      }
    },
    {
      "cell_type": "code",
      "source": [
        "!python main.py --task \"t2i-compbench\" --model \"sd-turbo\" --save_dir \"./outputs\" --prompt \"color_train\" --disable_hps --imagereward_weighting 0.0 --disable_pickscore --disable_aesthetic --disable_reg --disable_blip"
      ],
      "metadata": {
        "id": "ivdcMwO2rKeE"
      },
      "execution_count": null,
      "outputs": []
    },
    {
      "cell_type": "markdown",
      "source": [
        "## Proposed Method (with BLIP Score)"
      ],
      "metadata": {
        "id": "WMIS6bkECAG2"
      }
    },
    {
      "cell_type": "code",
      "source": [
        "!python main.py --task \"t2i-compbench\" --model \"sd-turbo\" --save_dir \"./outputs\" --prompt \"color_train\" --disable_hps --imagereward_weighting 0.0 --disable_pickscore --disable_aesthetic --disable_reg"
      ],
      "metadata": {
        "id": "Cabj-PucB7oe"
      },
      "execution_count": null,
      "outputs": []
    }
  ],
  "metadata": {
    "accelerator": "GPU",
    "colab": {
      "gpuType": "T4",
      "provenance": []
    },
    "kernelspec": {
      "display_name": "Python 3",
      "name": "python3"
    },
    "language_info": {
      "name": "python"
    }
  },
  "nbformat": 4,
  "nbformat_minor": 0
}